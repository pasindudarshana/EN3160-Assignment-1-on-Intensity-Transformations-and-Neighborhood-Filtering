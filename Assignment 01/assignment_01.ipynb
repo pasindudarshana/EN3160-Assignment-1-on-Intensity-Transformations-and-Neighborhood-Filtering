{
 "cells": [
  {
   "cell_type": "markdown",
   "id": "5cdb77eb",
   "metadata": {},
   "source": [
    "1. Implement the intensity transformation depicted in Fig. 1a on the image shown in Fig. 1b. "
   ]
  },
  {
   "cell_type": "code",
   "execution_count": 1,
   "id": "444bccd1",
   "metadata": {},
   "outputs": [
    {
     "name": "stderr",
     "output_type": "stream",
     "text": [
      "<>:24: SyntaxWarning: invalid escape sequence '\\m'\n",
      "<>:24: SyntaxWarning: invalid escape sequence '\\m'\n",
      "C:\\Users\\pasin\\AppData\\Local\\Temp\\ipykernel_7892\\2767973296.py:24: SyntaxWarning: invalid escape sequence '\\m'\n",
      "  ax.set_ylabel('Output, $\\mathrm{T}[f(\\mathbf{x})]$')\n"
     ]
    },
    {
     "name": "stdout",
     "output_type": "stream",
     "text": [
      "51\n",
      "100\n",
      "105\n",
      "256\n"
     ]
    },
    {
     "data": {
      "image/png": "[encoded data removed]",
      "text/plain": [
       "<Figure size 640x480 with 1 Axes>"
      ]
     },
     "metadata": {},
     "output_type": "display_data"
    },
    {
     "name": "stderr",
     "output_type": "stream",
     "text": [
      "C:\\Users\\pasin\\AppData\\Local\\Temp\\ipykernel_7892\\2767973296.py:24: SyntaxWarning: invalid escape sequence '\\m'\n",
      "  ax.set_ylabel('Output, $\\mathrm{T}[f(\\mathbf{x})]$')\n"
     ]
    },
    {
     "ename": "error",
     "evalue": "OpenCV(4.11.0) D:\\a\\opencv-python\\opencv-python\\opencv\\modules\\highgui\\src\\window.cpp:973: error: (-215:Assertion failed) size.width>0 && size.height>0 in function 'cv::imshow'\n",
     "output_type": "error",
     "traceback": [
      "\u001b[31m---------------------------------------------------------------------------\u001b[39m",
      "\u001b[31merror\u001b[39m                                     Traceback (most recent call last)",
      "\u001b[36mCell\u001b[39m\u001b[36m \u001b[39m\u001b[32mIn[1]\u001b[39m\u001b[32m, line 33\u001b[39m\n\u001b[32m     31\u001b[39m img_orig = cv.imread(\u001b[33m'\u001b[39m\u001b[33mimages/emma.jpg\u001b[39m\u001b[33m'\u001b[39m, cv.IMREAD_GRAYSCALE)\n\u001b[32m     32\u001b[39m cv.namedWindow(\u001b[33m\"\u001b[39m\u001b[33mImage\u001b[39m\u001b[33m\"\u001b[39m, cv.WINDOW_AUTOSIZE)\n\u001b[32m---> \u001b[39m\u001b[32m33\u001b[39m \u001b[43mcv\u001b[49m\u001b[43m.\u001b[49m\u001b[43mimshow\u001b[49m\u001b[43m(\u001b[49m\u001b[33;43m\"\u001b[39;49m\u001b[33;43mImage\u001b[39;49m\u001b[33;43m\"\u001b[39;49m\u001b[43m,\u001b[49m\u001b[43m \u001b[49m\u001b[43mimg_orig\u001b[49m\u001b[43m)\u001b[49m\n\u001b[32m     34\u001b[39m cv.waitKey(\u001b[32m0\u001b[39m)\n\u001b[32m     35\u001b[39m image_transformed = cv.LUT(img_orig, transform)\n",
      "\u001b[31merror\u001b[39m: OpenCV(4.11.0) D:\\a\\opencv-python\\opencv-python\\opencv\\modules\\highgui\\src\\window.cpp:973: error: (-215:Assertion failed) size.width>0 && size.height>0 in function 'cv::imshow'\n"
     ]
    }
   ],
   "source": [
    "# Intensity Windowing\n",
    "import cv2 as cv\n",
    "import numpy as np\n",
    "import matplotlib.pyplot as plt\n",
    "\n",
    "# breaking points in the piecewise linear transformation\n",
    "c1 = np.array([(50, 50), (50, 100), (150, 255), (150, 150)])\n",
    "\n",
    "# linspace ( starting point, ending point, number of points)\n",
    "t1 = np.linspace(0, 50, num=51 ).astype('uint8')\n",
    "print(len(t1))\n",
    "t2 = np.linspace(100, 255, num=100).astype('uint8')\n",
    "print(len(t2))\n",
    "t3 = np.linspace(150, 255, num= 105).astype('uint8')\n",
    "print(len(t3)) \n",
    " \n",
    "transform = np.concatenate((t1, t2), axis=0).astype('uint8')\n",
    "transform = np.concatenate((transform, t3), axis=0).astype('uint8')\n",
    "print(len(transform))\n",
    "\n",
    "fig, ax = plt.subplots()\n",
    "ax.plot(transform)\n",
    "ax.set_xlabel(r'Input, $f(\\mathbf{x})$')\n",
    "ax.set_ylabel('Output, $\\mathrm{T}[f(\\mathbf{x})]$')\n",
    "ax.set_xlim(0,255)\n",
    "ax.set_ylim(0,255)\n",
    "ax.set_aspect('equal') \n",
    "plt.show()\n",
    "\n",
    "\n",
    "img_orig = cv.imread('images/emma.jpg', cv.IMREAD_GRAYSCALE)\n",
    "cv.namedWindow(\"Image\", cv.WINDOW_AUTOSIZE)\n",
    "cv.imshow(\"Image\", img_orig)\n",
    "cv.waitKey(0)\n",
    "image_transformed = cv.LUT(img_orig, transform)\n",
    "cv.imshow(\"Image\", image_transformed)\n",
    "cv.waitKey(0)\n",
    "cv.destroyAllWindows()"
   ]
  }
 ],
 "metadata": {
  "kernelspec": {
   "display_name": "Python 3",
   "language": "python",
   "name": "python3"
  },
  "language_info": {
   "codemirror_mode": {
    "name": "ipython",
    "version": 3
   },
   "file_extension": ".py",
   "mimetype": "text/x-python",
   "name": "python",
   "nbconvert_exporter": "python",
   "pygments_lexer": "ipython3",
   "version": "3.13.3"
  }
 },
 "nbformat": 4,
 "nbformat_minor": 5
}
